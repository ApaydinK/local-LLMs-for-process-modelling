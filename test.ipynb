{
 "cells": [
  {
   "cell_type": "code",
   "execution_count": 1,
   "metadata": {},
   "outputs": [],
   "source": [
    "import ollama"
   ]
  },
  {
   "cell_type": "code",
   "execution_count": 3,
   "metadata": {},
   "outputs": [],
   "source": [
    "template = \"\"\"Generate 10 common verbs and nouns using in business process.Each of verb and noun relate to one or some departments or industry.\n",
    "            Expected result in json: {\"verbs\": [{\"verb1\": \" \",\n",
    "                                                 \"industries\": [\"industry 1\", \"industry 2\"], \n",
    "                                                 \"departments\": [\"depart 1\", \"depart 2\"]},{...}],\n",
    "                                      \"nouns\": [{\"noun1\": \" \",\n",
    "                                                \"industries\": [\"industry 1\",  \"industry 2\"], \n",
    "                                                \"departments\": [\"depart 1\", \"depart 2\"]},{...}]}\n",
    "            \"\"\""
   ]
  },
  {
   "cell_type": "code",
   "execution_count": 6,
   "metadata": {},
   "outputs": [],
   "source": [
    "def description_with_local_llm(process_tree):\n",
    "    response = ollama.chat(model='llama2', messages=[\n",
    "        {'role': 'system', 'content': 'You are expert in business process'},\n",
    "        {'role': 'user', 'content': template}\n",
    "                                                              \n",
    "        ])\n",
    "    print(response['message']['content'])"
   ]
  },
  {
   "cell_type": "code",
   "execution_count": 6,
   "metadata": {},
   "outputs": [
    {
     "name": "stdout",
     "output_type": "stream",
     "text": [
      "Topic: Marketing\n",
      "Step 1: Monitor brand\n",
      "Step 2: Analyze performance\n",
      "Step 3: Monitor strategies\n",
      "Step 4: Analyze content\n",
      "Step 5: Create ads\n"
     ]
    }
   ],
   "source": [
    "import random\n",
    "\n",
    "# Define verbs and nouns for each topic\n",
    "topics = {\n",
    "    \"marketing\": {\n",
    "        \"verbs\": [\"analyze\", \"create\", \"launch\", \"monitor\", \"optimize\", \"research\", \"segment\", \"target\"],\n",
    "        \"nouns\": [\"campaigns\", \"content\", \"audiences\", \"performance\", \"strategies\", \"markets\", \"ads\", \"brand\"]\n",
    "    },\n",
    "    \"purchasing\": {\n",
    "        \"verbs\": [\"evaluate\", \"negotiate\", \"order\", \"receive\", \"review\", \"select\", \"source\", \"track\"],\n",
    "        \"nouns\": [\"suppliers\", \"orders\", \"invoices\", \"inventory\", \"materials\", \"products\", \"requirements\", \"contracts\"]\n",
    "    },\n",
    "    \"sales\": {\n",
    "        \"verbs\": [\"contact\", \"demonstrate\", \"negotiate\", \"qualify\", \"sell\", \"track\", \"upsell\", \"close\"],\n",
    "        \"nouns\": [\"clients\", \"deals\", \"leads\", \"opportunities\", \"products\", \"proposals\", \"revenues\", \"sales\"]\n",
    "    },\n",
    "    \"IT\": {\n",
    "        \"verbs\": [\"configure\", \"deploy\", \"develop\", \"maintain\", \"monitor\", \"secure\", \"support\", \"upgrade\"],\n",
    "        \"nouns\": [\"applications\", \"databases\", \"networks\", \"servers\", \"systems\", \"software\", \"infrastructure\", \"technology\"]\n",
    "    }\n",
    "}\n",
    "\n",
    "# Define a function to generate a list of steps for a given topic\n",
    "def generate_topic_steps(topic):\n",
    "    \"\"\"\n",
    "    This function takes a topic as input and generates a list of logical steps for that topic.\n",
    "    \"\"\"\n",
    "    steps = []\n",
    "    if topic not in topics:\n",
    "        return [\"Invalid topic. Please choose from marketing, purchasing, sales, or IT.\"]\n",
    "    \n",
    "    details = topics[topic]\n",
    "    \n",
    "    for i in range(5):  # Can change this number of steps\n",
    "        verb = random.choice(details[\"verbs\"])\n",
    "        noun = random.choice(details[\"nouns\"])\n",
    "        \n",
    "        step = f\"{verb.capitalize()} {noun}\"\n",
    "        steps.append(step)\n",
    "    \n",
    "    return steps\n",
    "\n",
    "chosen_topic = \"marketing\" \n",
    "steps = generate_topic_steps(chosen_topic)\n",
    "print(f\"Topic: {chosen_topic.capitalize()}\")\n",
    "for i, step in enumerate(steps, start=1):\n",
    "    print(f\"Step {i}: {step}\")\n"
   ]
  },
  {
   "cell_type": "code",
   "execution_count": null,
   "metadata": {},
   "outputs": [],
   "source": []
  },
  {
   "cell_type": "code",
   "execution_count": null,
   "metadata": {},
   "outputs": [],
   "source": []
  }
 ],
 "metadata": {
  "kernelspec": {
   "display_name": "process",
   "language": "python",
   "name": "python3"
  },
  "language_info": {
   "codemirror_mode": {
    "name": "ipython",
    "version": 3
   },
   "file_extension": ".py",
   "mimetype": "text/x-python",
   "name": "python",
   "nbconvert_exporter": "python",
   "pygments_lexer": "ipython3",
   "version": "3.11.9"
  }
 },
 "nbformat": 4,
 "nbformat_minor": 2
}
